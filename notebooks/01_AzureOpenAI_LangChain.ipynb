{
 "cells": [
  {
   "cell_type": "code",
   "execution_count": 1,
   "id": "1bfe0383-67aa-4ee8-b03f-bad49d012c1a",
   "metadata": {},
   "outputs": [],
   "source": [
    "from IPython.display import display, Markdown\n",
    "\n",
    "import os\n",
    "\n",
    "# from openai import AzureOpenAI\n",
    "from langchain_openai import AzureChatOpenAI"
   ]
  },
  {
   "cell_type": "code",
   "execution_count": null,
   "id": "beb5a132",
   "metadata": {},
   "outputs": [],
   "source": []
  },
  {
   "cell_type": "code",
   "execution_count": 2,
   "id": "69e70f5e-be83-4c91-8857-019689c47860",
   "metadata": {},
   "outputs": [],
   "source": [
    "AZURE_OPENAI_ENDPOINT = \"\"\n",
    "AZURE_OPENAI_DEPLOYMENT_NAME = \"gpt-4o-mini\"\n",
    "AZURE_OPENAI_API_VERSION = \"2024-05-01-preview\""
   ]
  },
  {
   "cell_type": "code",
   "execution_count": null,
   "id": "72194354-8c96-4168-95da-a210afe906f8",
   "metadata": {},
   "outputs": [],
   "source": [
    "model = AzureChatOpenAI(\n",
    "    azure_endpoint=AZURE_OPENAI_ENDPOINT,\n",
    "    azure_deployment=AZURE_OPENAI_DEPLOYMENT_NAME,\n",
    "    openai_api_version=AZURE_OPENAI_API_VERSION,\n",
    ")"
   ]
  },
  {
   "cell_type": "code",
   "execution_count": null,
   "id": "0643eb3d-9b2d-4a7f-a166-b92f6c9c4c96",
   "metadata": {},
   "outputs": [],
   "source": [
    "result = model.invoke(\"ポアソン分布の確立に沿って在庫数ごとの販売数を予測するプログラムをPythonで実装して。\")"
   ]
  },
  {
   "cell_type": "code",
   "execution_count": null,
   "id": "90a71d4f-eaed-44a2-a785-fe62924d397f",
   "metadata": {},
   "outputs": [],
   "source": []
  },
  {
   "cell_type": "code",
   "execution_count": null,
   "id": "c673ab86-2f63-43ec-ab5c-727bb1f196e4",
   "metadata": {},
   "outputs": [],
   "source": []
  }
 ],
 "metadata": {
  "kernelspec": {
   "display_name": "Python 3 (ipykernel)",
   "language": "python",
   "name": "python3"
  },
  "language_info": {
   "codemirror_mode": {
    "name": "ipython",
    "version": 3
   },
   "file_extension": ".py",
   "mimetype": "text/x-python",
   "name": "python",
   "nbconvert_exporter": "python",
   "pygments_lexer": "ipython3",
   "version": "3.12.3"
  }
 },
 "nbformat": 4,
 "nbformat_minor": 5
}
